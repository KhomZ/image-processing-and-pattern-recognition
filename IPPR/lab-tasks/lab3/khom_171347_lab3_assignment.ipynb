{
 "cells": [
  {
   "cell_type": "markdown",
   "metadata": {},
   "source": [
    "Task to be performed\n",
    "1. Perform  DFT of an image and plot magnitude and phase \n",
    "2. Perform low pass filtering ( you can either use your know function or builtin function for calculating FFT/DFT).\n",
    "3. Perform high pass filtering ( you can either use your know function or builtin function for calculating FFT/DFT).\n",
    "4. Compare low and high pass filtering results using 3 types of filter function\n",
    "\n",
    "\n",
    "You need to  upload both codes and lab report ( must include output)"
   ]
  }
 ],
 "metadata": {
  "language_info": {
   "name": "python"
  },
  "orig_nbformat": 4
 },
 "nbformat": 4,
 "nbformat_minor": 2
}
