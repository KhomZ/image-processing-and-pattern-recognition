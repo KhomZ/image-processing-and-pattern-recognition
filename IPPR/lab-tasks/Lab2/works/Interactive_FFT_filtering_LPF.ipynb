{
  "cells": [
    {
      "cell_type": "code",
      "execution_count": 1,
      "id": "60cdad50",
      "metadata": {
        "id": "60cdad50"
      },
      "outputs": [],
      "source": [
        "import cv2\n",
        "import numpy as np\n",
        "\n",
        "\n",
        "def createLPFilter(shape, center, radius, lpType=2, n=2):\n",
        "    rows, cols = shape[:2]\n",
        "    r, c = np.mgrid[0:rows:1, 0:cols:1]\n",
        "    c -= center[0]\n",
        "    r -= center[1]\n",
        "    d = np.power(c, 2.0) + np.power(r, 2.0)\n",
        "    lpFilter_matrix = np.zeros(shape, np.float32)\n",
        "    if lpType == 0:  # ideal low-pass filter\n",
        "        lpFilter = np.copy(d)\n",
        "        lpFilter[lpFilter < pow(radius, 2.0)] = 1\n",
        "        lpFilter[lpFilter >= pow(radius, 2.0)] = 0\n",
        "    elif lpType == 1: #Butterworth low-pass filter \n",
        "        lpFilter = 1.0 / (1 + np.power(np.sqrt(d)/radius, 2*n))\n",
        "    elif lpType == 2: # Gaussian low pass filter\n",
        "        lpFilter = np.exp(-d/(2*pow(radius, 2.0)))\n",
        "    lpFilter_matrix[:, :, 0] = lpFilter\n",
        "    lpFilter_matrix[:, :, 1] = lpFilter\n",
        "    return lpFilter_matrix\n"
      ]
    },
    {
      "cell_type": "code",
      "execution_count": 2,
      "id": "eebb3503",
      "metadata": {
        "id": "eebb3503"
      },
      "outputs": [],
      "source": [
        "def stdFftImage(img_gray, rows, cols):\n",
        "    fimg = np.copy(img_gray)\n",
        "    fimg = fimg.astype(np.float32)   #Notice the type conversion here\n",
        "    # 1.Image matrix times(-1)^(r+c), Centralization\n",
        "    for r in range(rows):\n",
        "        for c in range(cols):\n",
        "            if (r+c) % 2:\n",
        "                fimg[r][c] = -1 * img_gray[r][c]\n",
        "    img_fft = fftImage(fimg, rows, cols)\n",
        "    return img_fft"
      ]
    },
    {
      "cell_type": "code",
      "execution_count": 3,
      "id": "85ea5efa",
      "metadata": {
        "id": "85ea5efa"
      },
      "outputs": [],
      "source": [
        "def fftImage(img_gray, rows, cols):\n",
        "    rPadded = cv2.getOptimalDFTSize(rows)\n",
        "    cPadded = cv2.getOptimalDFTSize(cols)\n",
        "    imgPadded = np.zeros((rPadded, cPadded), dtype=np.float32)\n",
        "    imgPadded[:rows, :cols] = img_gray\n",
        "    img_fft = cv2.dft(imgPadded, flags=cv2.DFT_COMPLEX_OUTPUT)\n",
        "    return img_fft"
      ]
    },
    {
      "cell_type": "code",
      "execution_count": 4,
      "id": "5510fa20",
      "metadata": {
        "id": "5510fa20"
      },
      "outputs": [],
      "source": [
        "def graySpectrum(fft_img):\n",
        "    real = np.power(fft_img[:, :, 0], 2.0)\n",
        "    imaginary = np.power(fft_img[:, :, 1], 2.0)\n",
        "    amplitude = np.sqrt(real+imaginary)\n",
        "    spectrum = np.log(amplitude+1.0)\n",
        "    spectrum = cv2.normalize(spectrum, 0, 1, norm_type=cv2.NORM_MINMAX, dtype=cv2.CV_32F)\n",
        "    spectrum *= 255\n",
        "    return amplitude, spectrum\n",
        "def nothing(args):\n",
        "    pass"
      ]
    },
    {
      "cell_type": "code",
      "execution_count": 8,
      "id": "89f9cd0c",
      "metadata": {
        "id": "89f9cd0c"
      },
      "outputs": [
        {
          "name": "stderr",
          "output_type": "stream",
          "text": [
            "C:\\Users\\ACER\\AppData\\Local\\Temp/ipykernel_14328/292312605.py:17: RuntimeWarning: divide by zero encountered in true_divide\n",
            "  lpFilter = 1.0 / (1 + np.power(np.sqrt(d)/radius, 2*n))\n",
            "C:\\Users\\ACER\\AppData\\Local\\Temp/ipykernel_14328/292312605.py:17: RuntimeWarning: invalid value encountered in true_divide\n",
            "  lpFilter = 1.0 / (1 + np.power(np.sqrt(d)/radius, 2*n))\n",
            "C:\\Users\\ACER\\AppData\\Local\\Temp/ipykernel_14328/292312605.py:19: RuntimeWarning: divide by zero encountered in true_divide\n",
            "  lpFilter = np.exp(-d/(2*pow(radius, 2.0)))\n",
            "C:\\Users\\ACER\\AppData\\Local\\Temp/ipykernel_14328/292312605.py:19: RuntimeWarning: invalid value encountered in true_divide\n",
            "  lpFilter = np.exp(-d/(2*pow(radius, 2.0)))\n"
          ]
        },
        {
          "ename": "error",
          "evalue": "OpenCV(4.5.3) C:\\Users\\runneradmin\\AppData\\Local\\Temp\\pip-req-build-1i5nllza\\opencv\\modules\\highgui\\src\\window_w32.cpp:2577: error: (-27:Null pointer) NULL window: 'tracks' in function 'cvGetTrackbarPos'\n",
          "output_type": "error",
          "traceback": [
            "\u001b[1;31m---------------------------------------------------------------------------\u001b[0m",
            "\u001b[1;31merror\u001b[0m                                     Traceback (most recent call last)",
            "\u001b[1;32m~\\AppData\\Local\\Temp/ipykernel_14328/64477117.py\u001b[0m in \u001b[0;36m<module>\u001b[1;34m\u001b[0m\n\u001b[0;32m     18\u001b[0m     \u001b[1;32mwhile\u001b[0m \u001b[1;32mTrue\u001b[0m\u001b[1;33m:\u001b[0m\u001b[1;33m\u001b[0m\u001b[1;33m\u001b[0m\u001b[0m\n\u001b[0;32m     19\u001b[0m         \u001b[1;31m# 2.Construction of low pass filter\u001b[0m\u001b[1;33m\u001b[0m\u001b[1;33m\u001b[0m\u001b[0m\n\u001b[1;32m---> 20\u001b[1;33m         \u001b[0mradius\u001b[0m \u001b[1;33m=\u001b[0m \u001b[0mcv2\u001b[0m\u001b[1;33m.\u001b[0m\u001b[0mgetTrackbarPos\u001b[0m\u001b[1;33m(\u001b[0m\u001b[1;34m\"Radius\"\u001b[0m\u001b[1;33m,\u001b[0m \u001b[1;34m\"tracks\"\u001b[0m\u001b[1;33m)\u001b[0m\u001b[1;33m\u001b[0m\u001b[1;33m\u001b[0m\u001b[0m\n\u001b[0m\u001b[0;32m     21\u001b[0m         \u001b[0mlpType\u001b[0m \u001b[1;33m=\u001b[0m \u001b[0mcv2\u001b[0m\u001b[1;33m.\u001b[0m\u001b[0mgetTrackbarPos\u001b[0m\u001b[1;33m(\u001b[0m\u001b[1;34m\"Filter type\"\u001b[0m\u001b[1;33m,\u001b[0m \u001b[1;34m\"tracks\"\u001b[0m\u001b[1;33m)\u001b[0m\u001b[1;33m\u001b[0m\u001b[1;33m\u001b[0m\u001b[0m\n\u001b[0;32m     22\u001b[0m         \u001b[0mnrows\u001b[0m\u001b[1;33m,\u001b[0m \u001b[0mncols\u001b[0m \u001b[1;33m=\u001b[0m \u001b[0mimg_fft\u001b[0m\u001b[1;33m.\u001b[0m\u001b[0mshape\u001b[0m\u001b[1;33m[\u001b[0m\u001b[1;33m:\u001b[0m\u001b[1;36m2\u001b[0m\u001b[1;33m]\u001b[0m\u001b[1;33m\u001b[0m\u001b[1;33m\u001b[0m\u001b[0m\n",
            "\u001b[1;31merror\u001b[0m: OpenCV(4.5.3) C:\\Users\\runneradmin\\AppData\\Local\\Temp\\pip-req-build-1i5nllza\\opencv\\modules\\highgui\\src\\window_w32.cpp:2577: error: (-27:Null pointer) NULL window: 'tracks' in function 'cvGetTrackbarPos'\n"
          ]
        }
      ],
      "source": [
        "if __name__ == \"__main__\":\n",
        "    \n",
        "    img_file = r\"sophia.jpg\"\n",
        "    # img_file = r\"a.jpg\"\n",
        "    # img_file = r\"D:\\data\\receipt_rotate.jpg\"\n",
        "    img_gray = cv2.imread(img_file, 0)\n",
        "    # 1.fast Fourier transform \n",
        "    rows, cols = img_gray.shape[:2]\n",
        "    img_fft = stdFftImage(img_gray, rows, cols)\n",
        "    amplitude, _ = graySpectrum(img_fft)\n",
        "    minValue, maxValue, minLoc, maxLoc = cv2.minMaxLoc(amplitude)  #The maximum value of the spectrum after centralization is at the center of the image\n",
        "\n",
        "    cv2.namedWindow(\"tracks\")\n",
        "    max_radius = np.sqrt(pow(rows, 2) + pow(cols, 2))/2\n",
        "    cv2.createTrackbar(\"Radius\", \"tracks\", 0, int(max_radius), nothing)\n",
        "    cv2.createTrackbar(\"Filter type\", \"tracks\", 0, 2, nothing)\n",
        "\n",
        "    while True:\n",
        "        # 2.Construction of low pass filter\n",
        "        radius = cv2.getTrackbarPos(\"Radius\", \"tracks\")\n",
        "        lpType = cv2.getTrackbarPos(\"Filter type\", \"tracks\")\n",
        "        nrows, ncols = img_fft.shape[:2]\n",
        "\n",
        "        # x, y = int(ncols/2), int(nrows/2)  # Notice here are the coordinates\n",
        "        # ilpFilter = createLPFilter(img_fft.shape, (x, y), radius, lpType)\n",
        "        ilpFilter = createLPFilter(img_fft.shape, maxLoc, radius, lpType)\n",
        "\n",
        "        # 3.Low pass filter\n",
        "        img_filter = ilpFilter*img_fft\n",
        "\n",
        "        _, gray_spectrum = graySpectrum(img_filter)  #Observe the change of the filter\n",
        "\n",
        "        # 4. Inverse Fourier transform, and take the real part for cutting, And decentralize\n",
        "        img_ift = cv2.dft(img_filter, flags=cv2.DFT_INVERSE+cv2.DFT_REAL_OUTPUT+cv2.DFT_SCALE)\n",
        "        ori_img = np.copy(img_ift[:rows, :cols])\n",
        "        for r in range(rows):\n",
        "            for c in range(cols):\n",
        "                if(r+c)%2:\n",
        "                    ori_img[r][c] = -1*ori_img[r][c]\n",
        "                # Truncate high and low values\n",
        "                if ori_img[r][c] < 0:\n",
        "                    ori_img[r][c] = 0\n",
        "                if ori_img[r][c] > 255:\n",
        "                    ori_img[r][c] = 255\n",
        "        # ori_img[ori_img < 0] = 0\n",
        "        # ori_img[ori_img > 255] = 255\n",
        "        ori_img = ori_img.astype(np.uint8)\n",
        "\n",
        "        cv2.imshow(\"img_gray\", img_gray)\n",
        "        cv2.imshow(\"ori_img\", ori_img)\n",
        "        cv2.imshow(\"gray_spectrum\", gray_spectrum)\n",
        "        key = cv2.waitKey(1)\n",
        "        if key == 27:\n",
        "            break\n",
        "    cv2.destroyAllWindows()"
      ]
    },
    {
      "cell_type": "code",
      "execution_count": null,
      "id": "d8d7b86c",
      "metadata": {
        "id": "d8d7b86c"
      },
      "outputs": [],
      "source": []
    },
    {
      "cell_type": "code",
      "execution_count": null,
      "id": "ef1634b7",
      "metadata": {
        "id": "ef1634b7"
      },
      "outputs": [],
      "source": []
    }
  ],
  "metadata": {
    "colab": {
      "name": "Interactive_FFT_filtering_LPF.ipynb",
      "provenance": []
    },
    "kernelspec": {
      "display_name": "Python 3",
      "language": "python",
      "name": "python3"
    },
    "language_info": {
      "codemirror_mode": {
        "name": "ipython",
        "version": 3
      },
      "file_extension": ".py",
      "mimetype": "text/x-python",
      "name": "python",
      "nbconvert_exporter": "python",
      "pygments_lexer": "ipython3",
      "version": "3.9.7"
    }
  },
  "nbformat": 4,
  "nbformat_minor": 5
}
