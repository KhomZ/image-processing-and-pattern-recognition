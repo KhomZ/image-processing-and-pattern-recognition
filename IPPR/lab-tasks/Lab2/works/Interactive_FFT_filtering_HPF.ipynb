{
  "cells": [
    {
      "cell_type": "code",
      "execution_count": null,
      "id": "2e10f1ba",
      "metadata": {
        "id": "2e10f1ba"
      },
      "outputs": [],
      "source": [
        "import cv2\n",
        "import numpy as np\n",
        "\n",
        "\n",
        "def createHPFilter(shape, center, radius, lpType=2, n=2):\n",
        "    rows, cols = shape[:2]\n",
        "    r, c = np.mgrid[0:rows:1, 0:cols:1]\n",
        "    c -= center[0]\n",
        "    r -= center[1]\n",
        "    d = np.power(c, 2.0) + np.power(r, 2.0)\n",
        "    lpFilter_matrix = np.zeros(shape, np.float32)\n",
        "    if lpType == 0:  # Ideal high pass filter\n",
        "        lpFilter = np.copy(d)\n",
        "        lpFilter[lpFilter < pow(radius, 2.0)] = 0\n",
        "        lpFilter[lpFilter >= pow(radius, 2.0)] = 1\n",
        "    elif lpType == 1: #Butterworth Highpass Filters \n",
        "        lpFilter = 1.0 - 1.0 / (1 + np.power(np.sqrt(d)/radius, 2*n))\n",
        "    elif lpType == 2: # Gaussian Highpass Filter \n",
        "        lpFilter = 1.0 - np.exp(-d/(2*pow(radius, 2.0)))\n",
        "    lpFilter_matrix[:, :, 0] = lpFilter\n",
        "    lpFilter_matrix[:, :, 1] = lpFilter\n",
        "    return lpFilter_matrix\n"
      ]
    },
    {
      "cell_type": "code",
      "execution_count": null,
      "id": "38a30b77",
      "metadata": {
        "id": "38a30b77"
      },
      "outputs": [],
      "source": [
        "def stdFftImage(img_gray, rows, cols):\n",
        "    fimg = np.copy(img_gray)\n",
        "    fimg = fimg.astype(np.float32)   #Notice the type conversion here\n",
        "    # 1.Image matrix times(-1)^(r+c), Centralization\n",
        "    for r in range(rows):\n",
        "        for c in range(cols):\n",
        "            if (r+c) % 2:\n",
        "                fimg[r][c] = -1 * img_gray[r][c]\n",
        "    img_fft = fftImage(fimg, rows, cols)\n",
        "    return img_fft"
      ]
    },
    {
      "cell_type": "code",
      "execution_count": null,
      "id": "67cc98e6",
      "metadata": {
        "id": "67cc98e6"
      },
      "outputs": [],
      "source": [
        "def fftImage(img_gray, rows, cols):\n",
        "    rPadded = cv2.getOptimalDFTSize(rows)\n",
        "    cPadded = cv2.getOptimalDFTSize(cols)\n",
        "    imgPadded = np.zeros((rPadded, cPadded), dtype=np.float32)\n",
        "    imgPadded[:rows, :cols] = img_gray\n",
        "    img_fft = cv2.dft(imgPadded, flags=cv2.DFT_COMPLEX_OUTPUT)\n",
        "    return img_fft"
      ]
    },
    {
      "cell_type": "code",
      "execution_count": null,
      "id": "38508653",
      "metadata": {
        "id": "38508653"
      },
      "outputs": [],
      "source": [
        "def graySpectrum(fft_img):\n",
        "    real = np.power(fft_img[:, :, 0], 2.0)\n",
        "    imaginary = np.power(fft_img[:, :, 1], 2.0)\n",
        "    amplitude = np.sqrt(real+imaginary)\n",
        "    spectrum = np.log(amplitude+1.0)\n",
        "    spectrum = cv2.normalize(spectrum, 0, 1, norm_type=cv2.NORM_MINMAX, dtype=cv2.CV_32F)\n",
        "    spectrum *= 255\n",
        "    return amplitude, spectrum\n",
        "def nothing(args):\n",
        "    pass"
      ]
    },
    {
      "cell_type": "code",
      "execution_count": null,
      "id": "db04914a",
      "metadata": {
        "id": "db04914a"
      },
      "outputs": [],
      "source": [
        "if __name__ == \"__main__\":\n",
        "    img_file = r\"a.jpg\"\n",
        "    # img_file = r\"D:\\data\\receipt_rotate.jpg\"\n",
        "    img_gray = cv2.imread(img_file, 0)\n",
        "    # 1.fast Fourier transform \n",
        "    rows, cols = img_gray.shape[:2]\n",
        "    img_fft = stdFftImage(img_gray, rows, cols)\n",
        "    amplitude, _ = graySpectrum(img_fft)\n",
        "    minValue, maxValue, minLoc, maxLoc = cv2.minMaxLoc(amplitude)  #The maximum value of the spectrum after centralization is at the center of the image\n",
        "\n",
        "    cv2.namedWindow(\"tracks\")\n",
        "    max_radius = np.sqrt(pow(rows, 2) + pow(cols, 2))/2\n",
        "    cv2.createTrackbar(\"Radius\", \"tracks\", 0, int(max_radius), nothing)\n",
        "    cv2.createTrackbar(\"Filter type\", \"tracks\", 0, 2, nothing)\n",
        "\n",
        "    while True:\n",
        "        # 2.Construction of filter\n",
        "        radius = cv2.getTrackbarPos(\"Radius\", \"tracks\")\n",
        "        lpType = cv2.getTrackbarPos(\"Filter type\", \"tracks\")\n",
        "        nrows, ncols = img_fft.shape[:2]\n",
        "\n",
        "        # 3.Low pass filter\n",
        "        # x, y = int(ncols/2), int(nrows/2)  # Notice here are the coordinates\n",
        "        # ilpFilter = createLPFilter(img_fft.shape, (x, y), radius, lpType)\n",
        "        #ilpFilter = createLPFilter(img_fft.shape, maxLoc, radius, lpType)\n",
        "        #img_filter = ilpFilter*img_fft\n",
        "        \n",
        "        # 3.High pass filter\n",
        "        # ilpFilter = createHPFilter(img_fft.shape, (x, y), radius, lpType)\n",
        "        ilpFilter = createHPFilter(img_fft.shape, maxLoc, radius, lpType)\n",
        "\n",
        "        \n",
        "        img_filter = ilpFilter * img_fft\n",
        "\n",
        "        _, gray_spectrum = graySpectrum(img_filter)  #Observe the change of the filter\n",
        "\n",
        "        # 4. Inverse Fourier transform, and take the real part for cutting, And decentralize\n",
        "        img_ift = cv2.dft(img_filter, flags=cv2.DFT_INVERSE+cv2.DFT_REAL_OUTPUT+cv2.DFT_SCALE)\n",
        "        ori_img = np.copy(img_ift[:rows, :cols])\n",
        "        for r in range(rows):\n",
        "            for c in range(cols):\n",
        "                if(r+c)%2:\n",
        "                    ori_img[r][c] = -1*ori_img[r][c]\n",
        "                # Truncate high and low values\n",
        "                if ori_img[r][c] < 0:\n",
        "                    ori_img[r][c] = 0\n",
        "                if ori_img[r][c] > 255:\n",
        "                    ori_img[r][c] = 255\n",
        "        # ori_img[ori_img < 0] = 0\n",
        "        # ori_img[ori_img > 255] = 255\n",
        "        ori_img = ori_img.astype(np.uint8)\n",
        "\n",
        "        cv2.imshow(\"img_gray\", img_gray)\n",
        "        cv2.imshow(\"ori_img\", ori_img)\n",
        "        cv2.imshow(\"gray_spectrum\", gray_spectrum)\n",
        "        key = cv2.waitKey(1)\n",
        "        if key == 27:\n",
        "            break\n",
        "    cv2.destroyAllWindows()"
      ]
    },
    {
      "cell_type": "code",
      "execution_count": null,
      "id": "e7ba76c7",
      "metadata": {
        "id": "e7ba76c7"
      },
      "outputs": [],
      "source": [
        ""
      ]
    }
  ],
  "metadata": {
    "kernelspec": {
      "display_name": "Python 3",
      "language": "python",
      "name": "python3"
    },
    "language_info": {
      "codemirror_mode": {
        "name": "ipython",
        "version": 3
      },
      "file_extension": ".py",
      "mimetype": "text/x-python",
      "name": "python",
      "nbconvert_exporter": "python",
      "pygments_lexer": "ipython3",
      "version": "3.8.8"
    },
    "colab": {
      "name": "Interactive_FFT_filtering_HPF.ipynb",
      "provenance": []
    }
  },
  "nbformat": 4,
  "nbformat_minor": 5
}