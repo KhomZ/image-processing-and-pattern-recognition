{
 "cells": [
  {
   "cell_type": "markdown",
   "metadata": {},
   "source": [
    "Probably you must be known that everything on a computer is stored as a strings of bits. In Bit-plane slicing, we take benefit of this fact to perform various image operations.\n",
    "\n",
    "For an 8-bit image, a pixel value of 0 is represented as 00000000 in binary form and 255 is encoded as 11111111.\n",
    "\n",
    "Here, the leftmost bit is known as the Most Significant Bit(MSB) as it contributes the maximum. e.g. if MSB of 11111111 is changed to 0(i.e. 01111111), then the value changes from 255 to 127.\n",
    "Similarly, rightmost bit is known as Least Significant Bit(LSB).\n",
    "\n",
    "In Bit-plane slicing, we divide the image into bit planes. This is done by first converting the pixel values in the binary form and then dividing it into bit planes.\n",
    "\n",
    "Let's take an example.\n",
    "\n",
    "For simplicity, let's take a 3x3, 3-bit image as shown below.\n",
    "We know that the pixel values for 3-bit can take values between 0 to 7.\n",
    "\n",
    "![bit-plane-slicing.png](img/bit-plane-slicing.png)\n",
    "\n",
    "\n",
    "Pros:\n",
    "* Image Compression\n",
    "* Converting a gray level image to a binary image.\n",
    "* Through this, we can analyze the relative importance of each bit in in the image that will help in determining the number of bits used to quantize the image.\n",
    "\n"
   ]
  },
  {
   "cell_type": "code",
   "execution_count": 1,
   "metadata": {},
   "outputs": [],
   "source": [
    "# @KhomZ\n",
    "import numpy as np\n",
    "import cv2"
   ]
  },
  {
   "cell_type": "code",
   "execution_count": 2,
   "metadata": {},
   "outputs": [],
   "source": [
    "# Read the image in grayscale\n",
    "img = cv2.imread('img/coin.jpg',0)"
   ]
  },
  {
   "cell_type": "code",
   "execution_count": 3,
   "metadata": {},
   "outputs": [
    {
     "data": {
      "text/plain": [
       "-1"
      ]
     },
     "execution_count": 3,
     "metadata": {},
     "output_type": "execute_result"
    }
   ],
   "source": [
    "# Iterate over each pixel \n",
    "# and change pixel value to binary using np.binary_repr() \n",
    "# and store it in a list.\n",
    "lst = []\n",
    "for i in range(img.shape[0]):\n",
    "    for j in range(img.shape[1]):\n",
    "        lst.append(np.binary_repr(img[i][j], width=8))  # width = no. of bits\n",
    "\n",
    "\n",
    "# We have a list of strings where each string represents binary pixel value. \n",
    "# To extract bit planes we need to iterate over the strings \n",
    "# and store the characters corresponding to bit planes into lists.\n",
    "# Multiply with 2^(n-1) and reshape to reconstruct the bit image.\n",
    "eight_bit_img = (np.array([int(i[0]) for i in lst], dtype=np.uint8) * 128).reshape(img.shape[0], img.shape[1])\n",
    "seven_bit_img = (np.array([int(i[1]) for i in lst], dtype=np.uint8) * 64).reshape(img.shape[0], img.shape[1])\n",
    "six_bit_img = (np.array([int(i[2]) for i in lst], dtype=np.uint8) * 32).reshape(img.shape[0], img.shape[1])\n",
    "five_bit_img = (np.array([int(i[3]) for i in lst], dtype=np.uint8) * 16).reshape(img.shape[0], img.shape[1])\n",
    "four_bit_img = (np.array([int(i[4]) for i in lst], dtype=np.uint8) * 8).reshape(img.shape[0], img.shape[1])\n",
    "three_bit_img = (np.array([int(i[5]) for i in lst], dtype=np.uint8) * 4).reshape(img.shape[0], img.shape[1])\n",
    "two_bit_img = (np.array([int(i[6]) for i in lst], dtype=np.uint8) * 2).reshape(img.shape[0], img.shape[1])\n",
    "one_bit_img = (np.array([int(i[7]) for i in lst], dtype=np.uint8) * 1).reshape(img.shape[0], img.shape[1])\n",
    "\n",
    "\n",
    "# Concatenate these images for ease of display using cv2.hconcat()\n",
    "finalr = cv2.hconcat([eight_bit_img, seven_bit_img, six_bit_img, five_bit_img])\n",
    "finalv = cv2.hconcat([four_bit_img, three_bit_img, two_bit_img, one_bit_img])\n",
    "\n",
    "# Vertically concatenate\n",
    "final = cv2.vconcat([finalr, finalv])\n",
    "\n",
    "# Display the images\n",
    "cv2.imshow('a', final)\n",
    "cv2.waitKey(0)"
   ]
  },
  {
   "cell_type": "code",
   "execution_count": null,
   "metadata": {},
   "outputs": [],
   "source": [
    "\n",
    "file_name_path = r\"img\\result.jpg\"\n",
    "cv2.imwrite(file_name_path, final)"
   ]
  }
 ],
 "metadata": {
  "interpreter": {
   "hash": "63fd5069d213b44bf678585dea6b12cceca9941eaf7f819626cde1f2670de90d"
  },
  "kernelspec": {
   "display_name": "Python 3.9.7 64-bit",
   "language": "python",
   "name": "python3"
  },
  "language_info": {
   "codemirror_mode": {
    "name": "ipython",
    "version": 3
   },
   "file_extension": ".py",
   "mimetype": "text/x-python",
   "name": "python",
   "nbconvert_exporter": "python",
   "pygments_lexer": "ipython3",
   "version": "3.9.7"
  },
  "orig_nbformat": 4
 },
 "nbformat": 4,
 "nbformat_minor": 2
}
